{
 "cells": [
  {
   "cell_type": "markdown",
   "metadata": {},
   "source": [
    "# MNIST"
   ]
  },
  {
   "cell_type": "markdown",
   "metadata": {},
   "source": [
    "## Читаем данные"
   ]
  },
  {
   "cell_type": "code",
   "execution_count": 2,
   "metadata": {
    "collapsed": true
   },
   "outputs": [],
   "source": [
    "import numpy as np, tensorflow as tf\n",
    "\n",
    "import matplotlib as mpl\n",
    "import matplotlib.pyplot as plt\n",
    "import seaborn as sns\n",
    "sns.set_style(\"whitegrid\")\n",
    "sns.set_palette(\"colorblind\")\n",
    "palette = sns.color_palette()\n",
    "figsize = (10, 10)\n",
    "legend_fontsize = 16"
   ]
  },
  {
   "cell_type": "code",
   "execution_count": 3,
   "metadata": {
    "scrolled": true
   },
   "outputs": [
    {
     "name": "stdout",
     "output_type": "stream",
     "text": [
      "Extracting MNIST_data/train-images-idx3-ubyte.gz\n",
      "Extracting MNIST_data/train-labels-idx1-ubyte.gz\n",
      "Extracting MNIST_data/t10k-images-idx3-ubyte.gz\n",
      "Extracting MNIST_data/t10k-labels-idx1-ubyte.gz\n"
     ]
    }
   ],
   "source": [
    "from tensorflow.examples.tutorials.mnist import input_data\n",
    "mnist = input_data.read_data_sets(\"MNIST_data/\", one_hot=True)"
   ]
  },
  {
   "cell_type": "markdown",
   "metadata": {},
   "source": [
    "## Логистическая регрессия"
   ]
  },
  {
   "cell_type": "code",
   "execution_count": 4,
   "metadata": {
    "collapsed": true
   },
   "outputs": [],
   "source": [
    "x = tf.placeholder(tf.float32, [None, 784]) \n",
    "y_ = tf.placeholder(tf.float32, [None, 10])\n",
    "W = tf.Variable(tf.zeros([784, 10]))\n",
    "b = tf.Variable(tf.zeros([10]))\n",
    "\n",
    "y = tf.nn.softmax(tf.matmul(x, W) + b)\n",
    "\n",
    "cross_entropy = tf.reduce_mean(-tf.reduce_sum(y_ * tf.log(y), reduction_indices=[1]))\n",
    "train_step = tf.train.GradientDescentOptimizer(0.5).minimize(cross_entropy)\n",
    "correct_prediction = tf.equal(tf.argmax(y,1), tf.argmax(y_, 1))\n",
    "accuracy = tf.reduce_mean(tf.cast(correct_prediction, tf.float32))"
   ]
  },
  {
   "cell_type": "code",
   "execution_count": 6,
   "metadata": {},
   "outputs": [],
   "source": [
    "sess = tf.Session()\n",
    "sess.run(tf.global_variables_initializer())"
   ]
  },
  {
   "cell_type": "code",
   "execution_count": 7,
   "metadata": {},
   "outputs": [
    {
     "name": "stdout",
     "output_type": "stream",
     "text": [
      "[0]\ttrain accuracy=0.409855\ttest accuracy=0.407500\n",
      "[50]\ttrain accuracy=0.864945\ttest accuracy=0.872500\n",
      "[100]\ttrain accuracy=0.886691\ttest accuracy=0.894800\n",
      "[150]\ttrain accuracy=0.885164\ttest accuracy=0.892600\n",
      "[200]\ttrain accuracy=0.897000\ttest accuracy=0.903100\n",
      "[250]\ttrain accuracy=0.891636\ttest accuracy=0.898900\n",
      "[300]\ttrain accuracy=0.903200\ttest accuracy=0.907400\n",
      "[350]\ttrain accuracy=0.902982\ttest accuracy=0.906300\n",
      "[400]\ttrain accuracy=0.900709\ttest accuracy=0.903700\n",
      "[450]\ttrain accuracy=0.904891\ttest accuracy=0.910200\n",
      "[500]\ttrain accuracy=0.910000\ttest accuracy=0.912500\n",
      "[550]\ttrain accuracy=0.901055\ttest accuracy=0.902200\n",
      "[600]\ttrain accuracy=0.912182\ttest accuracy=0.916500\n",
      "[650]\ttrain accuracy=0.914655\ttest accuracy=0.916500\n",
      "[700]\ttrain accuracy=0.915673\ttest accuracy=0.915900\n",
      "[750]\ttrain accuracy=0.914927\ttest accuracy=0.917300\n",
      "[800]\ttrain accuracy=0.914200\ttest accuracy=0.916100\n",
      "[850]\ttrain accuracy=0.913473\ttest accuracy=0.914000\n",
      "[900]\ttrain accuracy=0.912764\ttest accuracy=0.917800\n",
      "[950]\ttrain accuracy=0.914909\ttest accuracy=0.914300\n",
      "[1000]\ttrain accuracy=0.915873\ttest accuracy=0.918300\n"
     ]
    }
   ],
   "source": [
    "for i in range(1001):\n",
    "    batch_xs, batch_ys = mnist.train.next_batch(100)\n",
    "    sess.run(train_step, feed_dict={x: batch_xs, y_: batch_ys})\n",
    "    if i % 50 == 0:\n",
    "        print(\"[%d]\\ttrain accuracy=%.6f\\ttest accuracy=%.6f\" % (i,\n",
    "            sess.run(accuracy, feed_dict={x: mnist.train.images, y_: mnist.train.labels}),\n",
    "            sess.run(accuracy, feed_dict={x: mnist.test.images, y_: mnist.test.labels})\n",
    "        ))"
   ]
  },
  {
   "cell_type": "markdown",
   "metadata": {},
   "source": [
    "## Двухуровневая сеть с ReLU"
   ]
  },
  {
   "cell_type": "code",
   "execution_count": 14,
   "metadata": {},
   "outputs": [],
   "source": [
    "x = tf.placeholder(tf.float32, [None, 784]) \n",
    "y_ = tf.placeholder(tf.float32, [None, 10])\n",
    "\n",
    "W_relu = tf.Variable(tf.truncated_normal([784, 2000], stddev=0.1))\n",
    "b_relu = tf.Variable(tf.truncated_normal([2000], stddev=0.1))\n",
    "\n",
    "W = tf.Variable(tf.zeros([2000, 10]))\n",
    "b = tf.Variable(tf.zeros([10]))\n",
    "\n",
    "h = tf.nn.relu(tf.matmul(x, W_relu) + b_relu)\n",
    "\n",
    "logit = tf.matmul(h, W) + b\n",
    "y = tf.nn.softmax(logit)\n",
    "\n",
    "cross_entropy = tf.reduce_mean(tf.nn.softmax_cross_entropy_with_logits(logits=logit, labels=y_))\n",
    "train_step = tf.train.GradientDescentOptimizer(0.5).minimize(cross_entropy)\n",
    "correct_prediction = tf.equal(tf.argmax(y,1), tf.argmax(y_, 1))\n",
    "accuracy = tf.reduce_mean(tf.cast(correct_prediction, tf.float32))"
   ]
  },
  {
   "cell_type": "code",
   "execution_count": 15,
   "metadata": {},
   "outputs": [],
   "source": [
    "sess = tf.Session()\n",
    "sess.run(tf.global_variables_initializer())"
   ]
  },
  {
   "cell_type": "code",
   "execution_count": 16,
   "metadata": {},
   "outputs": [
    {
     "name": "stdout",
     "output_type": "stream",
     "text": [
      "[0]\ttest accuracy=0.098255\ttrain accuracy=0.098000\n",
      "[50]\ttest accuracy=0.899145\ttrain accuracy=0.904500\n",
      "[100]\ttest accuracy=0.928764\ttrain accuracy=0.931400\n",
      "[150]\ttest accuracy=0.940782\ttrain accuracy=0.940800\n",
      "[200]\ttest accuracy=0.948909\ttrain accuracy=0.947600\n",
      "[250]\ttest accuracy=0.953527\ttrain accuracy=0.949900\n",
      "[300]\ttest accuracy=0.958436\ttrain accuracy=0.956200\n",
      "[350]\ttest accuracy=0.958018\ttrain accuracy=0.951700\n",
      "[400]\ttest accuracy=0.963782\ttrain accuracy=0.959600\n",
      "[450]\ttest accuracy=0.964855\ttrain accuracy=0.960600\n",
      "[500]\ttest accuracy=0.968564\ttrain accuracy=0.963500\n",
      "[550]\ttest accuracy=0.970418\ttrain accuracy=0.965300\n",
      "[600]\ttest accuracy=0.971691\ttrain accuracy=0.962800\n",
      "[650]\ttest accuracy=0.973891\ttrain accuracy=0.968000\n",
      "[700]\ttest accuracy=0.976473\ttrain accuracy=0.968500\n",
      "[750]\ttest accuracy=0.976473\ttrain accuracy=0.968800\n",
      "[800]\ttest accuracy=0.977327\ttrain accuracy=0.968500\n",
      "[850]\ttest accuracy=0.979964\ttrain accuracy=0.971200\n",
      "[900]\ttest accuracy=0.979764\ttrain accuracy=0.969900\n",
      "[950]\ttest accuracy=0.981400\ttrain accuracy=0.971400\n",
      "[1000]\ttest accuracy=0.976873\ttrain accuracy=0.967100\n"
     ]
    }
   ],
   "source": [
    "for i in range(1001):\n",
    "    batch_xs, batch_ys = mnist.train.next_batch(100)\n",
    "    sess.run(train_step, feed_dict={x: batch_xs, y_: batch_ys})\n",
    "    if i % 50 == 0:\n",
    "        print(\"[%d]\\ttest accuracy=%.6f\\ttrain accuracy=%.6f\" % (i,\n",
    "            sess.run(accuracy, feed_dict={x: mnist.train.images, y_: mnist.train.labels}),\n",
    "            sess.run(accuracy, feed_dict={x: mnist.test.images, y_: mnist.test.labels})\n",
    "        ))"
   ]
  },
  {
   "cell_type": "markdown",
   "metadata": {},
   "source": [
    "## Добавим дропаут"
   ]
  },
  {
   "cell_type": "code",
   "execution_count": 17,
   "metadata": {},
   "outputs": [],
   "source": [
    "x = tf.placeholder(tf.float32, [None, 784]) \n",
    "y_ = tf.placeholder(tf.float32, [None, 10])\n",
    "\n",
    "W_relu = tf.Variable(tf.truncated_normal([784, 200], stddev=0.1))\n",
    "b_relu = tf.Variable(tf.truncated_normal([200], stddev=0.1))\n",
    "\n",
    "W = tf.Variable(tf.zeros([200, 10]))\n",
    "b = tf.Variable(tf.zeros([10]))\n",
    "\n",
    "h = tf.nn.relu(tf.matmul(x, W_relu) + b_relu)\n",
    "\n",
    "keep_probability = tf.placeholder(tf.float32)\n",
    "h_drop = tf.nn.dropout(h, keep_probability)\n",
    "\n",
    "logit = tf.matmul(h_drop, W) + b\n",
    "y = tf.nn.softmax(logit)\n",
    "\n",
    "cross_entropy = tf.reduce_mean(tf.nn.softmax_cross_entropy_with_logits(logits=logit, labels=y_))\n",
    "train_step = tf.train.GradientDescentOptimizer(0.5).minimize(cross_entropy)\n",
    "correct_prediction = tf.equal(tf.argmax(y,1), tf.argmax(y_, 1))\n",
    "accuracy = tf.reduce_mean(tf.cast(correct_prediction, tf.float32))"
   ]
  },
  {
   "cell_type": "code",
   "execution_count": 18,
   "metadata": {},
   "outputs": [],
   "source": [
    "sess = tf.Session()\n",
    "sess.run(tf.global_variables_initializer())"
   ]
  },
  {
   "cell_type": "code",
   "execution_count": 19,
   "metadata": {},
   "outputs": [
    {
     "name": "stdout",
     "output_type": "stream",
     "text": [
      "[0]\ttest accuracy=0.111255\ttrain accuracy=0.108900\n",
      "[50]\ttest accuracy=0.819909\ttrain accuracy=0.824400\n",
      "[100]\ttest accuracy=0.908727\ttrain accuracy=0.912500\n",
      "[150]\ttest accuracy=0.913709\ttrain accuracy=0.916900\n",
      "[200]\ttest accuracy=0.928055\ttrain accuracy=0.929800\n",
      "[250]\ttest accuracy=0.933491\ttrain accuracy=0.934500\n",
      "[300]\ttest accuracy=0.937000\ttrain accuracy=0.937800\n",
      "[350]\ttest accuracy=0.941891\ttrain accuracy=0.943200\n",
      "[400]\ttest accuracy=0.941582\ttrain accuracy=0.939800\n",
      "[450]\ttest accuracy=0.946200\ttrain accuracy=0.946300\n",
      "[500]\ttest accuracy=0.950564\ttrain accuracy=0.949200\n",
      "[550]\ttest accuracy=0.952982\ttrain accuracy=0.954100\n",
      "[600]\ttest accuracy=0.953818\ttrain accuracy=0.953600\n",
      "[650]\ttest accuracy=0.956382\ttrain accuracy=0.955200\n",
      "[700]\ttest accuracy=0.957782\ttrain accuracy=0.955200\n",
      "[750]\ttest accuracy=0.960982\ttrain accuracy=0.959600\n",
      "[800]\ttest accuracy=0.959327\ttrain accuracy=0.957100\n",
      "[850]\ttest accuracy=0.962382\ttrain accuracy=0.960900\n",
      "[900]\ttest accuracy=0.962236\ttrain accuracy=0.959400\n",
      "[950]\ttest accuracy=0.963473\ttrain accuracy=0.961100\n",
      "[1000]\ttest accuracy=0.964745\ttrain accuracy=0.960900\n"
     ]
    }
   ],
   "source": [
    "for i in range(1001):\n",
    "    batch_xs, batch_ys = mnist.train.next_batch(100)\n",
    "    sess.run(train_step, feed_dict={x: batch_xs, y_: batch_ys, keep_probability : 0.5})\n",
    "    if i % 50 == 0:\n",
    "        print(\"[%d]\\ttest accuracy=%.6f\\ttrain accuracy=%.6f\" % (i,\n",
    "            sess.run(accuracy, feed_dict={x: mnist.train.images, y_: mnist.train.labels, keep_probability : 1.0}),\n",
    "            sess.run(accuracy, feed_dict={x: mnist.test.images, y_: mnist.test.labels, keep_probability : 1.0})\n",
    "        ))"
   ]
  },
  {
   "cell_type": "markdown",
   "metadata": {},
   "source": [
    "# MNIST на Keras"
   ]
  },
  {
   "cell_type": "markdown",
   "metadata": {},
   "source": [
    "## Предобработка"
   ]
  },
  {
   "cell_type": "code",
   "execution_count": 20,
   "metadata": {},
   "outputs": [
    {
     "name": "stderr",
     "output_type": "stream",
     "text": [
      "Using TensorFlow backend.\n"
     ]
    }
   ],
   "source": [
    "from keras.datasets import mnist\n",
    "from keras.models import Sequential\n",
    "from keras.layers import Dense, Dropout, Activation, Flatten, BatchNormalization\n",
    "from keras.utils import np_utils\n",
    "from keras import callbacks\n",
    "from keras import optimizers, regularizers\n",
    "tf.python.control_flow_ops = tf"
   ]
  },
  {
   "cell_type": "code",
   "execution_count": 21,
   "metadata": {},
   "outputs": [],
   "source": [
    "(x_train, y_train), (x_test, y_test) = mnist.load_data()\n",
    "X_train = x_train.reshape(x_train.shape[0], x_train.shape[1] * x_train.shape[2])\n",
    "X_test = x_test.reshape(x_test.shape[0], x_test.shape[1] * x_test.shape[2])\n",
    "X_train = X_train.astype('float32')\n",
    "X_test = X_test.astype('float32')\n",
    "X_train /= 255\n",
    "X_test /= 255\n",
    "Y_train = np_utils.to_categorical(y_train, 10)\n",
    "Y_test = np_utils.to_categorical(y_test, 10)\n",
    "\n",
    "batch_size = 100"
   ]
  },
  {
   "cell_type": "code",
   "execution_count": 22,
   "metadata": {},
   "outputs": [
    {
     "data": {
      "text/plain": [
       "(60000, 784)"
      ]
     },
     "execution_count": 22,
     "metadata": {},
     "output_type": "execute_result"
    }
   ],
   "source": [
    "X_train.shape"
   ]
  },
  {
   "cell_type": "markdown",
   "metadata": {},
   "source": [
    "## Логистическая регрессия"
   ]
  },
  {
   "cell_type": "code",
   "execution_count": 23,
   "metadata": {
    "collapsed": true
   },
   "outputs": [],
   "source": [
    "model = Sequential()\n",
    "model.add(Dense(10, input_shape=(784,)))\n",
    "model.add(Activation('softmax'))"
   ]
  },
  {
   "cell_type": "code",
   "execution_count": 24,
   "metadata": {
    "collapsed": true
   },
   "outputs": [],
   "source": [
    "sgd = optimizers.SGD(lr=0.5)\n",
    "model.compile(loss='categorical_crossentropy',\n",
    "              optimizer=sgd,\n",
    "              metrics=['accuracy'])"
   ]
  },
  {
   "cell_type": "code",
   "execution_count": 25,
   "metadata": {},
   "outputs": [
    {
     "name": "stdout",
     "output_type": "stream",
     "text": [
      "Train on 60000 samples, validate on 10000 samples\n",
      "Epoch 1/20\n",
      "60000/60000 [==============================] - 3s - loss: 0.3966 - acc: 0.8854 - val_loss: 0.3031 - val_acc: 0.9145\n",
      "Epoch 2/20\n",
      "60000/60000 [==============================] - 2s - loss: 0.3060 - acc: 0.9138 - val_loss: 0.2857 - val_acc: 0.9208\n",
      "Epoch 3/20\n",
      "60000/60000 [==============================] - 2s - loss: 0.2919 - acc: 0.9179 - val_loss: 0.2790 - val_acc: 0.9200\n",
      "Epoch 4/20\n",
      "60000/60000 [==============================] - 2s - loss: 0.2842 - acc: 0.9202 - val_loss: 0.2828 - val_acc: 0.9206\n",
      "Epoch 5/20\n",
      "60000/60000 [==============================] - 2s - loss: 0.2794 - acc: 0.9214 - val_loss: 0.2769 - val_acc: 0.9233\n",
      "Epoch 6/20\n",
      "60000/60000 [==============================] - 2s - loss: 0.2757 - acc: 0.9234 - val_loss: 0.2821 - val_acc: 0.9211\n",
      "Epoch 7/20\n",
      "60000/60000 [==============================] - 2s - loss: 0.2724 - acc: 0.9242 - val_loss: 0.2725 - val_acc: 0.9237\n",
      "Epoch 8/20\n",
      "60000/60000 [==============================] - 2s - loss: 0.2700 - acc: 0.9242 - val_loss: 0.2754 - val_acc: 0.9237\n",
      "Epoch 9/20\n",
      "60000/60000 [==============================] - 2s - loss: 0.2675 - acc: 0.9257 - val_loss: 0.2865 - val_acc: 0.9216\n",
      "Epoch 10/20\n",
      "60000/60000 [==============================] - 2s - loss: 0.2658 - acc: 0.9267 - val_loss: 0.2743 - val_acc: 0.9228\n",
      "Epoch 11/20\n",
      "60000/60000 [==============================] - 2s - loss: 0.2649 - acc: 0.9260 - val_loss: 0.2698 - val_acc: 0.9246\n",
      "Epoch 12/20\n",
      "60000/60000 [==============================] - 2s - loss: 0.2625 - acc: 0.9269 - val_loss: 0.2771 - val_acc: 0.9220\n",
      "Epoch 13/20\n",
      "60000/60000 [==============================] - 2s - loss: 0.2621 - acc: 0.9269 - val_loss: 0.2739 - val_acc: 0.9231\n",
      "Epoch 14/20\n",
      "60000/60000 [==============================] - 2s - loss: 0.2610 - acc: 0.9272 - val_loss: 0.2747 - val_acc: 0.9232\n",
      "Epoch 15/20\n",
      "60000/60000 [==============================] - 2s - loss: 0.2595 - acc: 0.9276 - val_loss: 0.2720 - val_acc: 0.9224\n",
      "Epoch 00014: early stopping\n"
     ]
    },
    {
     "data": {
      "text/plain": [
       "<keras.callbacks.History at 0x119133748>"
      ]
     },
     "execution_count": 25,
     "metadata": {},
     "output_type": "execute_result"
    }
   ],
   "source": [
    "model.fit(X_train, Y_train, batch_size=batch_size, epochs=20,\n",
    "          verbose=1, validation_data=(X_test, Y_test),\n",
    "         callbacks=[callbacks.EarlyStopping(monitor='val_acc', patience=3, verbose=1),\n",
    "#                    ModelCheckpoint(kfold_weights_path, monitor='val_loss', save_best_only=True, verbose=0)\n",
    "                   ])"
   ]
  },
  {
   "cell_type": "code",
   "execution_count": 27,
   "metadata": {},
   "outputs": [
    {
     "name": "stdout",
     "output_type": "stream",
     "text": [
      "Train on 60000 samples, validate on 10000 samples\n",
      "Epoch 1/10\n",
      "60000/60000 [==============================] - 2s - loss: 0.3913 - acc: 0.8877 - val_loss: 0.3251 - val_acc: 0.9072\n",
      "Epoch 2/10\n",
      "60000/60000 [==============================] - 2s - loss: 0.3065 - acc: 0.9131 - val_loss: 0.3010 - val_acc: 0.9131\n",
      "Epoch 3/10\n",
      "60000/60000 [==============================] - 2s - loss: 0.2917 - acc: 0.9182 - val_loss: 0.2797 - val_acc: 0.9204\n",
      "Epoch 4/10\n",
      "60000/60000 [==============================] - 2s - loss: 0.2844 - acc: 0.9205 - val_loss: 0.2715 - val_acc: 0.9241\n",
      "Epoch 5/10\n",
      "60000/60000 [==============================] - 2s - loss: 0.2782 - acc: 0.9229 - val_loss: 0.2835 - val_acc: 0.9216\n",
      "Epoch 6/10\n",
      "60000/60000 [==============================] - 2s - loss: 0.2752 - acc: 0.9230 - val_loss: 0.2753 - val_acc: 0.9227\n",
      "Epoch 7/10\n",
      "60000/60000 [==============================] - 2s - loss: 0.2723 - acc: 0.9241 - val_loss: 0.2705 - val_acc: 0.9226\n",
      "Epoch 8/10\n",
      "60000/60000 [==============================] - 2s - loss: 0.2696 - acc: 0.9248 - val_loss: 0.2765 - val_acc: 0.9243\n",
      "Epoch 9/10\n",
      "60000/60000 [==============================] - 2s - loss: 0.2678 - acc: 0.9256 - val_loss: 0.2733 - val_acc: 0.9228\n",
      "Epoch 10/10\n",
      "60000/60000 [==============================] - 2s - loss: 0.2657 - acc: 0.9262 - val_loss: 0.2869 - val_acc: 0.9192\n"
     ]
    },
    {
     "data": {
      "text/plain": [
       "<keras.callbacks.History at 0x10f6cf3c8>"
      ]
     },
     "execution_count": 27,
     "metadata": {},
     "output_type": "execute_result"
    }
   ],
   "source": [
    "model = Sequential()\n",
    "model.add(Dense(10, input_shape=(784,)))\n",
    "model.add(Activation('softmax'))\n",
    "sgd = optimizers.SGD(lr=0.5)\n",
    "model.compile(loss='categorical_crossentropy', optimizer=sgd, metrics=['accuracy'])\n",
    "model.fit(\n",
    "    X_train, Y_train,\n",
    "    batch_size=batch_size,\n",
    "    epochs=10,\n",
    "    verbose=1,\n",
    "    validation_data=(X_test, Y_test),\n",
    "    callbacks=[callbacks.EarlyStopping(monitor='val_acc', patience=3, verbose=1)]\n",
    ")"
   ]
  },
  {
   "cell_type": "markdown",
   "metadata": {},
   "source": [
    "## Сеть с одним скрытым слоем"
   ]
  },
  {
   "cell_type": "code",
   "execution_count": 28,
   "metadata": {
    "collapsed": true
   },
   "outputs": [],
   "source": [
    "model = Sequential()\n",
    "model.add(Dense(200, input_shape=(784,)))\n",
    "model.add(Activation('sigmoid'))\n",
    "model.add(Dense(10))\n",
    "model.add(Activation('softmax'))"
   ]
  },
  {
   "cell_type": "code",
   "execution_count": 29,
   "metadata": {
    "collapsed": true
   },
   "outputs": [],
   "source": [
    "sgd = optimizers.SGD(lr=0.1)\n",
    "model.compile(loss='categorical_crossentropy',\n",
    "              optimizer=sgd,\n",
    "              metrics=['accuracy'])"
   ]
  },
  {
   "cell_type": "code",
   "execution_count": 30,
   "metadata": {
    "scrolled": true
   },
   "outputs": [
    {
     "name": "stdout",
     "output_type": "stream",
     "text": [
      "Train on 60000 samples, validate on 10000 samples\n",
      "Epoch 1/10\n",
      "60000/60000 [==============================] - 5s - loss: 0.8433 - acc: 0.8019 - val_loss: 0.4354 - val_acc: 0.8863\n",
      "Epoch 2/10\n",
      "60000/60000 [==============================] - 4s - loss: 0.4008 - acc: 0.8901 - val_loss: 0.3474 - val_acc: 0.9053\n",
      "Epoch 3/10\n",
      "60000/60000 [==============================] - 5s - loss: 0.3438 - acc: 0.9024 - val_loss: 0.3171 - val_acc: 0.9076\n",
      "Epoch 4/10\n",
      "60000/60000 [==============================] - 5s - loss: 0.3173 - acc: 0.9088 - val_loss: 0.2953 - val_acc: 0.9164\n",
      "Epoch 5/10\n",
      "60000/60000 [==============================] - 5s - loss: 0.2997 - acc: 0.9134 - val_loss: 0.2852 - val_acc: 0.9194\n",
      "Epoch 6/10\n",
      "60000/60000 [==============================] - 4s - loss: 0.2863 - acc: 0.9174 - val_loss: 0.2714 - val_acc: 0.9218\n",
      "Epoch 7/10\n",
      "60000/60000 [==============================] - 4s - loss: 0.2746 - acc: 0.9210 - val_loss: 0.2638 - val_acc: 0.9250\n",
      "Epoch 8/10\n",
      "60000/60000 [==============================] - 4s - loss: 0.2641 - acc: 0.9244 - val_loss: 0.2538 - val_acc: 0.9276\n",
      "Epoch 9/10\n",
      "60000/60000 [==============================] - 4s - loss: 0.2544 - acc: 0.9266 - val_loss: 0.2451 - val_acc: 0.9308\n",
      "Epoch 10/10\n",
      "60000/60000 [==============================] - 4s - loss: 0.2445 - acc: 0.9294 - val_loss: 0.2398 - val_acc: 0.9303\n"
     ]
    },
    {
     "data": {
      "text/plain": [
       "<keras.callbacks.History at 0x11952acf8>"
      ]
     },
     "execution_count": 30,
     "metadata": {},
     "output_type": "execute_result"
    }
   ],
   "source": [
    "model.fit(X_train, Y_train, batch_size=batch_size, epochs=10,\n",
    "          verbose=1, validation_data=(X_test, Y_test))"
   ]
  },
  {
   "cell_type": "code",
   "execution_count": 33,
   "metadata": {
    "collapsed": true
   },
   "outputs": [],
   "source": [
    "model = Sequential()\n",
    "model.add(Dense(200, input_shape=(784,)))\n",
    "model.add(Activation('relu'))\n",
    "model.add(Dense(10))\n",
    "model.add(Activation('softmax'))"
   ]
  },
  {
   "cell_type": "code",
   "execution_count": 34,
   "metadata": {
    "collapsed": true
   },
   "outputs": [],
   "source": [
    "sgd = optimizers.SGD(lr=0.1)\n",
    "model.compile(loss='categorical_crossentropy',\n",
    "              optimizer=sgd,\n",
    "              metrics=['accuracy'])"
   ]
  },
  {
   "cell_type": "code",
   "execution_count": 35,
   "metadata": {
    "scrolled": true
   },
   "outputs": [
    {
     "name": "stdout",
     "output_type": "stream",
     "text": [
      "Train on 60000 samples, validate on 10000 samples\n",
      "Epoch 1/10\n",
      "60000/60000 [==============================] - 5s - loss: 0.4160 - acc: 0.8880 - val_loss: 0.2528 - val_acc: 0.9300\n",
      "Epoch 2/10\n",
      "60000/60000 [==============================] - 4s - loss: 0.2333 - acc: 0.9344 - val_loss: 0.2012 - val_acc: 0.9399\n",
      "Epoch 3/10\n",
      "60000/60000 [==============================] - 5s - loss: 0.1830 - acc: 0.9487 - val_loss: 0.1624 - val_acc: 0.9531\n",
      "Epoch 4/10\n",
      "60000/60000 [==============================] - 4s - loss: 0.1511 - acc: 0.9574 - val_loss: 0.1413 - val_acc: 0.9590\n",
      "Epoch 5/10\n",
      "60000/60000 [==============================] - 4s - loss: 0.1288 - acc: 0.9642 - val_loss: 0.1221 - val_acc: 0.9642\n",
      "Epoch 6/10\n",
      "60000/60000 [==============================] - 5s - loss: 0.1125 - acc: 0.9688 - val_loss: 0.1111 - val_acc: 0.9660\n",
      "Epoch 7/10\n",
      "60000/60000 [==============================] - 5s - loss: 0.0994 - acc: 0.9724 - val_loss: 0.1037 - val_acc: 0.9698\n",
      "Epoch 8/10\n",
      "60000/60000 [==============================] - 5s - loss: 0.0896 - acc: 0.9757 - val_loss: 0.0985 - val_acc: 0.9715\n",
      "Epoch 9/10\n",
      "60000/60000 [==============================] - 5s - loss: 0.0813 - acc: 0.9778 - val_loss: 0.0890 - val_acc: 0.9734\n",
      "Epoch 10/10\n",
      "60000/60000 [==============================] - 5s - loss: 0.0741 - acc: 0.9797 - val_loss: 0.0841 - val_acc: 0.9743\n"
     ]
    },
    {
     "data": {
      "text/plain": [
       "<keras.callbacks.History at 0x11b49f5c0>"
      ]
     },
     "execution_count": 35,
     "metadata": {},
     "output_type": "execute_result"
    }
   ],
   "source": [
    "model.fit(X_train, Y_train, batch_size=batch_size, epochs=10,\n",
    "          verbose=1, validation_data=(X_test, Y_test))"
   ]
  },
  {
   "cell_type": "markdown",
   "metadata": {},
   "source": [
    "## Что если добавить слоёв?"
   ]
  },
  {
   "cell_type": "code",
   "execution_count": 36,
   "metadata": {},
   "outputs": [],
   "source": [
    "model = Sequential()\n",
    "model.add(Dense(200, input_shape=(784,), kernel_regularizer=regularizers.l2(0.001)))\n",
    "model.add(Activation('relu'))\n",
    "model.add(Dense(200, input_shape=(784,), kernel_regularizer=regularizers.l2(0.001)))\n",
    "model.add(Activation('relu'))\n",
    "model.add(Dense(10))\n",
    "model.add(Activation('softmax'))"
   ]
  },
  {
   "cell_type": "code",
   "execution_count": 37,
   "metadata": {
    "collapsed": true
   },
   "outputs": [],
   "source": [
    "sgd = optimizers.SGD(lr=0.1)\n",
    "model.compile(loss='categorical_crossentropy',\n",
    "              optimizer=sgd,\n",
    "              metrics=['accuracy'])"
   ]
  },
  {
   "cell_type": "code",
   "execution_count": 38,
   "metadata": {
    "scrolled": true
   },
   "outputs": [
    {
     "name": "stdout",
     "output_type": "stream",
     "text": [
      "Train on 60000 samples, validate on 10000 samples\n",
      "Epoch 1/10\n",
      "60000/60000 [==============================] - 10s - loss: 0.8952 - acc: 0.8825 - val_loss: 0.6618 - val_acc: 0.9350\n",
      "Epoch 2/10\n",
      "60000/60000 [==============================] - 9s - loss: 0.6011 - acc: 0.9423 - val_loss: 0.5256 - val_acc: 0.9530\n",
      "Epoch 3/10\n",
      "60000/60000 [==============================] - 9s - loss: 0.4827 - acc: 0.9567 - val_loss: 0.4428 - val_acc: 0.9587\n",
      "Epoch 4/10\n",
      "60000/60000 [==============================] - 9s - loss: 0.4008 - acc: 0.9657 - val_loss: 0.3730 - val_acc: 0.9664\n",
      "Epoch 5/10\n",
      "60000/60000 [==============================] - 9s - loss: 0.3405 - acc: 0.9704 - val_loss: 0.3219 - val_acc: 0.9689\n",
      "Epoch 6/10\n",
      "60000/60000 [==============================] - 9s - loss: 0.2936 - acc: 0.9737 - val_loss: 0.2843 - val_acc: 0.9704\n",
      "Epoch 7/10\n",
      "60000/60000 [==============================] - 7s - loss: 0.2569 - acc: 0.9769 - val_loss: 0.2550 - val_acc: 0.9728\n",
      "Epoch 8/10\n",
      "60000/60000 [==============================] - 9s - loss: 0.2285 - acc: 0.9784 - val_loss: 0.2320 - val_acc: 0.9749\n",
      "Epoch 9/10\n",
      "60000/60000 [==============================] - 9s - loss: 0.2052 - acc: 0.9810 - val_loss: 0.2106 - val_acc: 0.9755\n",
      "Epoch 10/10\n",
      "60000/60000 [==============================] - 9s - loss: 0.1871 - acc: 0.9818 - val_loss: 0.1928 - val_acc: 0.9776\n"
     ]
    },
    {
     "data": {
      "text/plain": [
       "<keras.callbacks.History at 0x11bcbea20>"
      ]
     },
     "execution_count": 38,
     "metadata": {},
     "output_type": "execute_result"
    }
   ],
   "source": [
    "model.fit(X_train, Y_train, batch_size=batch_size, epochs=10,\n",
    "          verbose=1, validation_data=(X_test, Y_test),\n",
    "         callbacks=[callbacks.EarlyStopping(monitor='val_acc', patience=3, verbose=1)])"
   ]
  },
  {
   "cell_type": "markdown",
   "metadata": {},
   "source": [
    "## Сеть с дропаутом"
   ]
  },
  {
   "cell_type": "code",
   "execution_count": 34,
   "metadata": {
    "collapsed": true
   },
   "outputs": [],
   "source": [
    "model = Sequential()\n",
    "model.add(Dense(200, input_shape=(784,)))\n",
    "model.add(Activation('relu'))\n",
    "model.add(Dropout(0.5))\n",
    "model.add(Dense(10))\n",
    "model.add(Activation('softmax'))"
   ]
  },
  {
   "cell_type": "code",
   "execution_count": 35,
   "metadata": {
    "collapsed": true
   },
   "outputs": [],
   "source": [
    "sgd = optimizers.SGD(lr=0.1)\n",
    "model.compile(loss='categorical_crossentropy',\n",
    "              optimizer=sgd,\n",
    "              metrics=['accuracy'])"
   ]
  },
  {
   "cell_type": "code",
   "execution_count": 39,
   "metadata": {
    "scrolled": true
   },
   "outputs": [
    {
     "name": "stdout",
     "output_type": "stream",
     "text": [
      "Train on 60000 samples, validate on 10000 samples\n",
      "Epoch 1/10\n",
      "60000/60000 [==============================] - 9s - loss: 0.1716 - acc: 0.9836 - val_loss: 0.1828 - val_acc: 0.9766\n",
      "Epoch 2/10\n",
      "60000/60000 [==============================] - 9s - loss: 0.1604 - acc: 0.9838 - val_loss: 0.1721 - val_acc: 0.9770\n",
      "Epoch 3/10\n",
      "60000/60000 [==============================] - 9s - loss: 0.1503 - acc: 0.9849 - val_loss: 0.1660 - val_acc: 0.9769\n",
      "Epoch 4/10\n",
      "60000/60000 [==============================] - 9s - loss: 0.1421 - acc: 0.9849 - val_loss: 0.1585 - val_acc: 0.9779\n",
      "Epoch 5/10\n",
      "60000/60000 [==============================] - 9s - loss: 0.1360 - acc: 0.9854 - val_loss: 0.1548 - val_acc: 0.9764\n",
      "Epoch 6/10\n",
      "60000/60000 [==============================] - 11s - loss: 0.1303 - acc: 0.9865 - val_loss: 0.1522 - val_acc: 0.9771\n",
      "Epoch 7/10\n",
      "60000/60000 [==============================] - 10s - loss: 0.1258 - acc: 0.9865 - val_loss: 0.1435 - val_acc: 0.9787\n",
      "Epoch 8/10\n",
      "60000/60000 [==============================] - 10s - loss: 0.1217 - acc: 0.9871 - val_loss: 0.1431 - val_acc: 0.9789\n",
      "Epoch 9/10\n",
      "60000/60000 [==============================] - 10s - loss: 0.1182 - acc: 0.9880 - val_loss: 0.1468 - val_acc: 0.9764\n",
      "Epoch 10/10\n",
      "60000/60000 [==============================] - 10s - loss: 0.1156 - acc: 0.9875 - val_loss: 0.1352 - val_acc: 0.9804\n"
     ]
    },
    {
     "data": {
      "text/plain": [
       "<keras.callbacks.History at 0x11b484278>"
      ]
     },
     "execution_count": 39,
     "metadata": {},
     "output_type": "execute_result"
    }
   ],
   "source": [
    "model.fit(X_train, Y_train, batch_size=batch_size, epochs=10,\n",
    "          verbose=1, validation_data=(X_test, Y_test))"
   ]
  },
  {
   "cell_type": "markdown",
   "metadata": {},
   "source": [
    "## Правильная инициализация"
   ]
  },
  {
   "cell_type": "code",
   "execution_count": 45,
   "metadata": {},
   "outputs": [],
   "source": [
    "model = Sequential()\n",
    "model.add(Dense(200, kernel_initializer='he_uniform', input_shape=(784,)))\n",
    "model.add(Activation('relu'))\n",
    "model.add(Dense(10))\n",
    "model.add(Activation('softmax'))"
   ]
  },
  {
   "cell_type": "code",
   "execution_count": 46,
   "metadata": {
    "collapsed": true
   },
   "outputs": [],
   "source": [
    "sgd = optimizers.SGD(lr=0.1)\n",
    "model.compile(loss='categorical_crossentropy',\n",
    "              optimizer=sgd,\n",
    "              metrics=['accuracy'])"
   ]
  },
  {
   "cell_type": "code",
   "execution_count": 47,
   "metadata": {
    "scrolled": true
   },
   "outputs": [
    {
     "name": "stdout",
     "output_type": "stream",
     "text": [
      "Train on 60000 samples, validate on 10000 samples\n",
      "Epoch 1/10\n",
      "60000/60000 [==============================] - 5s - loss: 0.4127 - acc: 0.8879 - val_loss: 0.2642 - val_acc: 0.9250\n",
      "Epoch 2/10\n",
      "60000/60000 [==============================] - 5s - loss: 0.2318 - acc: 0.9345 - val_loss: 0.1935 - val_acc: 0.9421\n",
      "Epoch 3/10\n",
      "60000/60000 [==============================] - 5s - loss: 0.1821 - acc: 0.9486 - val_loss: 0.1594 - val_acc: 0.9527\n",
      "Epoch 4/10\n",
      "60000/60000 [==============================] - 5s - loss: 0.1498 - acc: 0.9579 - val_loss: 0.1390 - val_acc: 0.9590\n",
      "Epoch 5/10\n",
      "60000/60000 [==============================] - 5s - loss: 0.1282 - acc: 0.9636 - val_loss: 0.1241 - val_acc: 0.9635\n",
      "Epoch 6/10\n",
      "60000/60000 [==============================] - 4s - loss: 0.1120 - acc: 0.9688 - val_loss: 0.1182 - val_acc: 0.9648\n",
      "Epoch 7/10\n",
      "60000/60000 [==============================] - 5s - loss: 0.0993 - acc: 0.9722 - val_loss: 0.1037 - val_acc: 0.9682\n",
      "Epoch 8/10\n",
      "60000/60000 [==============================] - 5s - loss: 0.0895 - acc: 0.9753 - val_loss: 0.0981 - val_acc: 0.9711\n",
      "Epoch 9/10\n",
      "60000/60000 [==============================] - 4s - loss: 0.0814 - acc: 0.9777 - val_loss: 0.0920 - val_acc: 0.9722\n",
      "Epoch 10/10\n",
      "60000/60000 [==============================] - 5s - loss: 0.0742 - acc: 0.9795 - val_loss: 0.0915 - val_acc: 0.9726\n"
     ]
    },
    {
     "data": {
      "text/plain": [
       "<keras.callbacks.History at 0x11da8f7b8>"
      ]
     },
     "execution_count": 47,
     "metadata": {},
     "output_type": "execute_result"
    }
   ],
   "source": [
    "model.fit(X_train, Y_train, batch_size=batch_size, epochs=10,\n",
    "          verbose=1, validation_data=(X_test, Y_test))"
   ]
  },
  {
   "cell_type": "code",
   "execution_count": 48,
   "metadata": {},
   "outputs": [],
   "source": [
    "model = Sequential()\n",
    "model.add(Dense(200, kernel_initializer='glorot_uniform', input_shape=(784,)))\n",
    "model.add(Activation('sigmoid'))\n",
    "model.add(Dense(10))\n",
    "model.add(Activation('softmax'))"
   ]
  },
  {
   "cell_type": "code",
   "execution_count": 49,
   "metadata": {
    "collapsed": true
   },
   "outputs": [],
   "source": [
    "sgd = optimizers.SGD(lr=0.1)\n",
    "model.compile(loss='categorical_crossentropy',\n",
    "              optimizer=sgd,\n",
    "              metrics=['accuracy'])"
   ]
  },
  {
   "cell_type": "code",
   "execution_count": 50,
   "metadata": {
    "scrolled": true
   },
   "outputs": [
    {
     "name": "stdout",
     "output_type": "stream",
     "text": [
      "Train on 60000 samples, validate on 10000 samples\n",
      "Epoch 1/10\n",
      "60000/60000 [==============================] - 5s - loss: 0.8350 - acc: 0.8046 - val_loss: 0.4321 - val_acc: 0.8878\n",
      "Epoch 2/10\n",
      "60000/60000 [==============================] - 5s - loss: 0.3984 - acc: 0.8904 - val_loss: 0.3423 - val_acc: 0.9044\n",
      "Epoch 3/10\n",
      "60000/60000 [==============================] - 5s - loss: 0.3424 - acc: 0.9023 - val_loss: 0.3111 - val_acc: 0.9116\n",
      "Epoch 4/10\n",
      "60000/60000 [==============================] - 5s - loss: 0.3160 - acc: 0.9096 - val_loss: 0.2943 - val_acc: 0.9146\n",
      "Epoch 5/10\n",
      "60000/60000 [==============================] - 5s - loss: 0.2987 - acc: 0.9138 - val_loss: 0.2805 - val_acc: 0.9208\n",
      "Epoch 6/10\n",
      "60000/60000 [==============================] - 5s - loss: 0.2853 - acc: 0.9181 - val_loss: 0.2722 - val_acc: 0.9215\n",
      "Epoch 7/10\n",
      "60000/60000 [==============================] - 5s - loss: 0.2734 - acc: 0.9213 - val_loss: 0.2614 - val_acc: 0.9259\n",
      "Epoch 8/10\n",
      "60000/60000 [==============================] - 5s - loss: 0.2628 - acc: 0.9249 - val_loss: 0.2524 - val_acc: 0.9261\n",
      "Epoch 9/10\n",
      "60000/60000 [==============================] - 5s - loss: 0.2529 - acc: 0.9278 - val_loss: 0.2446 - val_acc: 0.9305\n",
      "Epoch 10/10\n",
      "60000/60000 [==============================] - 5s - loss: 0.2437 - acc: 0.9306 - val_loss: 0.2340 - val_acc: 0.9333\n"
     ]
    },
    {
     "data": {
      "text/plain": [
       "<keras.callbacks.History at 0x120adef60>"
      ]
     },
     "execution_count": 50,
     "metadata": {},
     "output_type": "execute_result"
    }
   ],
   "source": [
    "model.fit(X_train, Y_train, batch_size=batch_size, epochs=10,\n",
    "          verbose=1, validation_data=(X_test, Y_test))"
   ]
  },
  {
   "cell_type": "markdown",
   "metadata": {},
   "source": [
    "## Сеть с нормализацией по мини-батчам"
   ]
  },
  {
   "cell_type": "code",
   "execution_count": 51,
   "metadata": {
    "collapsed": true
   },
   "outputs": [],
   "source": [
    "model = Sequential()\n",
    "model.add(Dense(200, input_shape=(784,)))\n",
    "model.add(Activation('relu'))\n",
    "model.add(BatchNormalization())\n",
    "model.add(Dense(10))\n",
    "model.add(Activation('softmax'))"
   ]
  },
  {
   "cell_type": "code",
   "execution_count": 52,
   "metadata": {
    "collapsed": true
   },
   "outputs": [],
   "source": [
    "sgd = optimizers.SGD(lr=0.1)\n",
    "model.compile(loss='categorical_crossentropy',\n",
    "              optimizer=sgd,\n",
    "              metrics=['accuracy'])"
   ]
  },
  {
   "cell_type": "code",
   "execution_count": 53,
   "metadata": {
    "scrolled": true
   },
   "outputs": [
    {
     "name": "stdout",
     "output_type": "stream",
     "text": [
      "Train on 60000 samples, validate on 10000 samples\n",
      "Epoch 1/10\n",
      "60000/60000 [==============================] - 7s - loss: 0.2249 - acc: 0.9340 - val_loss: 0.1295 - val_acc: 0.9610\n",
      "Epoch 2/10\n",
      "60000/60000 [==============================] - 7s - loss: 0.1042 - acc: 0.9703 - val_loss: 0.0991 - val_acc: 0.9692\n",
      "Epoch 3/10\n",
      "60000/60000 [==============================] - 7s - loss: 0.0746 - acc: 0.9783 - val_loss: 0.0778 - val_acc: 0.9748\n",
      "Epoch 4/10\n",
      "60000/60000 [==============================] - 7s - loss: 0.0555 - acc: 0.9848 - val_loss: 0.0816 - val_acc: 0.9726\n",
      "Epoch 5/10\n",
      "60000/60000 [==============================] - 6s - loss: 0.0450 - acc: 0.9872 - val_loss: 0.0772 - val_acc: 0.9748\n",
      "Epoch 6/10\n",
      "60000/60000 [==============================] - 7s - loss: 0.0362 - acc: 0.9894 - val_loss: 0.0748 - val_acc: 0.9772\n",
      "Epoch 7/10\n",
      "60000/60000 [==============================] - 6s - loss: 0.0289 - acc: 0.9924 - val_loss: 0.0745 - val_acc: 0.9755\n",
      "Epoch 8/10\n",
      "60000/60000 [==============================] - 7s - loss: 0.0234 - acc: 0.9941 - val_loss: 0.0673 - val_acc: 0.9803\n",
      "Epoch 9/10\n",
      "60000/60000 [==============================] - 7s - loss: 0.0190 - acc: 0.9957 - val_loss: 0.0671 - val_acc: 0.9795\n",
      "Epoch 10/10\n",
      "60000/60000 [==============================] - 7s - loss: 0.0168 - acc: 0.9962 - val_loss: 0.0654 - val_acc: 0.9798\n"
     ]
    },
    {
     "data": {
      "text/plain": [
       "<keras.callbacks.History at 0x1257122b0>"
      ]
     },
     "execution_count": 53,
     "metadata": {},
     "output_type": "execute_result"
    }
   ],
   "source": [
    "model.fit(X_train, Y_train, batch_size=batch_size, epochs=10,\n",
    "          verbose=1, validation_data=(X_test, Y_test))"
   ]
  },
  {
   "cell_type": "markdown",
   "metadata": {},
   "source": [
    "## Сравним оптимизаторы на сети с одним скрытым слоем ReLU"
   ]
  },
  {
   "cell_type": "code",
   "execution_count": 54,
   "metadata": {
    "collapsed": true
   },
   "outputs": [],
   "source": [
    "model = Sequential()\n",
    "model.add(Dense(200, input_shape=(784,)))\n",
    "model.add(Activation('relu'))\n",
    "model.add(Dense(10))\n",
    "model.add(Activation('softmax'))"
   ]
  },
  {
   "cell_type": "code",
   "execution_count": 55,
   "metadata": {
    "collapsed": true
   },
   "outputs": [],
   "source": [
    "sgd = optimizers.SGD(lr=0.1)\n",
    "model.compile(loss='categorical_crossentropy',\n",
    "              optimizer=sgd,\n",
    "              metrics=['accuracy'])"
   ]
  },
  {
   "cell_type": "code",
   "execution_count": 56,
   "metadata": {
    "scrolled": true
   },
   "outputs": [
    {
     "name": "stdout",
     "output_type": "stream",
     "text": [
      "Train on 60000 samples, validate on 10000 samples\n",
      "Epoch 1/10\n",
      "60000/60000 [==============================] - 5s - loss: 0.4166 - acc: 0.8880 - val_loss: 0.2502 - val_acc: 0.9292\n",
      "Epoch 2/10\n",
      "60000/60000 [==============================] - 5s - loss: 0.2332 - acc: 0.9343 - val_loss: 0.1974 - val_acc: 0.9416\n",
      "Epoch 3/10\n",
      "60000/60000 [==============================] - 5s - loss: 0.1857 - acc: 0.9478 - val_loss: 0.1649 - val_acc: 0.9512\n",
      "Epoch 4/10\n",
      "60000/60000 [==============================] - 5s - loss: 0.1542 - acc: 0.9558 - val_loss: 0.1401 - val_acc: 0.9583\n",
      "Epoch 5/10\n",
      "60000/60000 [==============================] - 5s - loss: 0.1325 - acc: 0.9618 - val_loss: 0.1260 - val_acc: 0.9632\n",
      "Epoch 6/10\n",
      "60000/60000 [==============================] - 5s - loss: 0.1155 - acc: 0.9672 - val_loss: 0.1155 - val_acc: 0.9656\n",
      "Epoch 7/10\n",
      "60000/60000 [==============================] - 5s - loss: 0.1025 - acc: 0.9710 - val_loss: 0.1039 - val_acc: 0.9700\n",
      "Epoch 8/10\n",
      "60000/60000 [==============================] - 5s - loss: 0.0921 - acc: 0.9742 - val_loss: 0.0987 - val_acc: 0.9703\n",
      "Epoch 9/10\n",
      "60000/60000 [==============================] - 5s - loss: 0.0833 - acc: 0.9765 - val_loss: 0.0939 - val_acc: 0.9728\n",
      "Epoch 10/10\n",
      "60000/60000 [==============================] - 5s - loss: 0.0759 - acc: 0.9788 - val_loss: 0.0886 - val_acc: 0.9740\n"
     ]
    },
    {
     "data": {
      "text/plain": [
       "<keras.callbacks.History at 0x125903cf8>"
      ]
     },
     "execution_count": 56,
     "metadata": {},
     "output_type": "execute_result"
    }
   ],
   "source": [
    "model.fit(X_train, Y_train, batch_size=batch_size, epochs=10,\n",
    "          verbose=1, validation_data=(X_test, Y_test))"
   ]
  },
  {
   "cell_type": "code",
   "execution_count": 57,
   "metadata": {
    "collapsed": true
   },
   "outputs": [],
   "source": [
    "model = Sequential()\n",
    "model.add(Dense(200, input_shape=(784,)))\n",
    "model.add(Activation('relu'))\n",
    "model.add(Dense(10))\n",
    "model.add(Activation('softmax'))\n",
    "sgd = optimizers.SGD(lr=0.1, momentum=0.9)\n",
    "model.compile(loss='categorical_crossentropy',\n",
    "              optimizer=sgd,\n",
    "              metrics=['accuracy'])"
   ]
  },
  {
   "cell_type": "code",
   "execution_count": 58,
   "metadata": {
    "scrolled": true
   },
   "outputs": [
    {
     "name": "stdout",
     "output_type": "stream",
     "text": [
      "Train on 60000 samples, validate on 10000 samples\n",
      "Epoch 1/10\n",
      "60000/60000 [==============================] - 6s - loss: 0.2376 - acc: 0.9290 - val_loss: 0.1136 - val_acc: 0.9638\n",
      "Epoch 2/10\n",
      "60000/60000 [==============================] - 5s - loss: 0.0958 - acc: 0.9704 - val_loss: 0.0909 - val_acc: 0.9723\n",
      "Epoch 3/10\n",
      "60000/60000 [==============================] - 5s - loss: 0.0671 - acc: 0.9789 - val_loss: 0.0832 - val_acc: 0.9748\n",
      "Epoch 4/10\n",
      "60000/60000 [==============================] - 5s - loss: 0.0496 - acc: 0.9841 - val_loss: 0.0810 - val_acc: 0.9746\n",
      "Epoch 5/10\n",
      "60000/60000 [==============================] - 5s - loss: 0.0359 - acc: 0.9883 - val_loss: 0.0735 - val_acc: 0.9776\n",
      "Epoch 6/10\n",
      "60000/60000 [==============================] - 5s - loss: 0.0275 - acc: 0.9916 - val_loss: 0.0802 - val_acc: 0.9761\n",
      "Epoch 7/10\n",
      "60000/60000 [==============================] - 5s - loss: 0.0217 - acc: 0.9932 - val_loss: 0.0755 - val_acc: 0.9784\n",
      "Epoch 8/10\n",
      "60000/60000 [==============================] - 5s - loss: 0.0158 - acc: 0.9954 - val_loss: 0.0777 - val_acc: 0.9786\n",
      "Epoch 9/10\n",
      "60000/60000 [==============================] - 5s - loss: 0.0123 - acc: 0.9966 - val_loss: 0.0670 - val_acc: 0.9811\n",
      "Epoch 10/10\n",
      "60000/60000 [==============================] - 6s - loss: 0.0082 - acc: 0.9979 - val_loss: 0.0819 - val_acc: 0.9776\n"
     ]
    },
    {
     "data": {
      "text/plain": [
       "<keras.callbacks.History at 0x12635dd30>"
      ]
     },
     "execution_count": 58,
     "metadata": {},
     "output_type": "execute_result"
    }
   ],
   "source": [
    "model.fit(X_train, Y_train, batch_size=batch_size, epochs=10,\n",
    "          verbose=1, validation_data=(X_test, Y_test))"
   ]
  },
  {
   "cell_type": "code",
   "execution_count": 59,
   "metadata": {
    "collapsed": true
   },
   "outputs": [],
   "source": [
    "model = Sequential()\n",
    "model.add(Dense(200, input_shape=(784,)))\n",
    "model.add(Activation('relu'))\n",
    "model.add(Dense(10))\n",
    "model.add(Activation('softmax'))\n",
    "sgd = optimizers.SGD(lr=0.1, momentum=0.9, nesterov=True)\n",
    "model.compile(loss='categorical_crossentropy',\n",
    "              optimizer=sgd,\n",
    "              metrics=['accuracy'])"
   ]
  },
  {
   "cell_type": "code",
   "execution_count": 60,
   "metadata": {
    "scrolled": true
   },
   "outputs": [
    {
     "name": "stdout",
     "output_type": "stream",
     "text": [
      "Train on 60000 samples, validate on 10000 samples\n",
      "Epoch 1/10\n",
      "60000/60000 [==============================] - 5s - loss: 0.2211 - acc: 0.9339 - val_loss: 0.1294 - val_acc: 0.9605\n",
      "Epoch 2/10\n",
      "60000/60000 [==============================] - 5s - loss: 0.0928 - acc: 0.9722 - val_loss: 0.0850 - val_acc: 0.9738\n",
      "Epoch 3/10\n",
      "60000/60000 [==============================] - 6s - loss: 0.0628 - acc: 0.9809 - val_loss: 0.0821 - val_acc: 0.9747\n",
      "Epoch 4/10\n",
      "60000/60000 [==============================] - 6s - loss: 0.0492 - acc: 0.9843 - val_loss: 0.0783 - val_acc: 0.9771\n",
      "Epoch 5/10\n",
      "60000/60000 [==============================] - 5s - loss: 0.0374 - acc: 0.9885 - val_loss: 0.0778 - val_acc: 0.9763\n",
      "Epoch 6/10\n",
      "60000/60000 [==============================] - 5s - loss: 0.0271 - acc: 0.9916 - val_loss: 0.0744 - val_acc: 0.9790\n",
      "Epoch 7/10\n",
      "60000/60000 [==============================] - 5s - loss: 0.0219 - acc: 0.9929 - val_loss: 0.0819 - val_acc: 0.9783\n",
      "Epoch 8/10\n",
      "60000/60000 [==============================] - 5s - loss: 0.0172 - acc: 0.9943 - val_loss: 0.0714 - val_acc: 0.9794\n",
      "Epoch 9/10\n",
      "60000/60000 [==============================] - 6s - loss: 0.0122 - acc: 0.9966 - val_loss: 0.0744 - val_acc: 0.9793\n",
      "Epoch 10/10\n",
      "60000/60000 [==============================] - 6s - loss: 0.0087 - acc: 0.9978 - val_loss: 0.0718 - val_acc: 0.9808\n"
     ]
    },
    {
     "data": {
      "text/plain": [
       "<keras.callbacks.History at 0x126b81240>"
      ]
     },
     "execution_count": 60,
     "metadata": {},
     "output_type": "execute_result"
    }
   ],
   "source": [
    "model.fit(X_train, Y_train, batch_size=batch_size, epochs=10,\n",
    "          verbose=1, validation_data=(X_test, Y_test))"
   ]
  },
  {
   "cell_type": "code",
   "execution_count": 61,
   "metadata": {
    "collapsed": true
   },
   "outputs": [],
   "source": [
    "model = Sequential()\n",
    "model.add(Dense(200, input_shape=(784,)))\n",
    "model.add(Activation('relu'))\n",
    "model.add(Dense(10))\n",
    "model.add(Activation('softmax'))\n",
    "sgd = optimizers.RMSprop(lr=0.01)\n",
    "model.compile(loss='categorical_crossentropy',\n",
    "              optimizer=sgd,\n",
    "              metrics=['accuracy'])"
   ]
  },
  {
   "cell_type": "code",
   "execution_count": 62,
   "metadata": {
    "scrolled": true
   },
   "outputs": [
    {
     "name": "stdout",
     "output_type": "stream",
     "text": [
      "Train on 60000 samples, validate on 10000 samples\n",
      "Epoch 1/10\n",
      "60000/60000 [==============================] - 7s - loss: 0.2819 - acc: 0.9218 - val_loss: 0.1779 - val_acc: 0.9567\n",
      "Epoch 2/10\n",
      "60000/60000 [==============================] - 6s - loss: 0.1580 - acc: 0.9632 - val_loss: 0.1735 - val_acc: 0.9642\n",
      "Epoch 3/10\n",
      "60000/60000 [==============================] - 6s - loss: 0.1357 - acc: 0.9714 - val_loss: 0.1831 - val_acc: 0.9674\n",
      "Epoch 4/10\n",
      "60000/60000 [==============================] - 6s - loss: 0.1223 - acc: 0.9756 - val_loss: 0.1904 - val_acc: 0.9693\n",
      "Epoch 5/10\n",
      "60000/60000 [==============================] - 6s - loss: 0.1125 - acc: 0.9796 - val_loss: 0.2022 - val_acc: 0.9733\n",
      "Epoch 6/10\n",
      "60000/60000 [==============================] - 6s - loss: 0.1086 - acc: 0.9816 - val_loss: 0.2072 - val_acc: 0.9718\n",
      "Epoch 7/10\n",
      "60000/60000 [==============================] - 6s - loss: 0.1090 - acc: 0.9830 - val_loss: 0.2274 - val_acc: 0.9726\n",
      "Epoch 8/10\n",
      "60000/60000 [==============================] - 6s - loss: 0.0913 - acc: 0.9856 - val_loss: 0.1902 - val_acc: 0.9773\n",
      "Epoch 9/10\n",
      "60000/60000 [==============================] - 6s - loss: 0.0889 - acc: 0.9870 - val_loss: 0.2253 - val_acc: 0.9734\n",
      "Epoch 10/10\n",
      "60000/60000 [==============================] - 6s - loss: 0.0853 - acc: 0.9874 - val_loss: 0.1927 - val_acc: 0.9791\n"
     ]
    },
    {
     "data": {
      "text/plain": [
       "<keras.callbacks.History at 0x1266d0dd8>"
      ]
     },
     "execution_count": 62,
     "metadata": {},
     "output_type": "execute_result"
    }
   ],
   "source": [
    "model.fit(X_train, Y_train, batch_size=batch_size, epochs=10,\n",
    "          verbose=1, validation_data=(X_test, Y_test))"
   ]
  },
  {
   "cell_type": "code",
   "execution_count": 63,
   "metadata": {
    "collapsed": true
   },
   "outputs": [],
   "source": [
    "model = Sequential()\n",
    "model.add(Dense(200, input_shape=(784,)))\n",
    "model.add(Activation('relu'))\n",
    "model.add(Dense(10))\n",
    "model.add(Activation('softmax'))\n",
    "sgd = optimizers.Adagrad()\n",
    "model.compile(loss='categorical_crossentropy',\n",
    "              optimizer=sgd,\n",
    "              metrics=['accuracy'])"
   ]
  },
  {
   "cell_type": "code",
   "execution_count": 64,
   "metadata": {
    "scrolled": true
   },
   "outputs": [
    {
     "name": "stdout",
     "output_type": "stream",
     "text": [
      "Train on 60000 samples, validate on 10000 samples\n",
      "Epoch 1/10\n",
      "60000/60000 [==============================] - 6s - loss: 0.2684 - acc: 0.9244 - val_loss: 0.1748 - val_acc: 0.9485\n",
      "Epoch 2/10\n",
      "60000/60000 [==============================] - 6s - loss: 0.1534 - acc: 0.9570 - val_loss: 0.1371 - val_acc: 0.9608\n",
      "Epoch 3/10\n",
      "60000/60000 [==============================] - 6s - loss: 0.1238 - acc: 0.9656 - val_loss: 0.1215 - val_acc: 0.9648\n",
      "Epoch 4/10\n",
      "60000/60000 [==============================] - 6s - loss: 0.1064 - acc: 0.9701 - val_loss: 0.1130 - val_acc: 0.9671\n",
      "Epoch 5/10\n",
      "60000/60000 [==============================] - 6s - loss: 0.0950 - acc: 0.9740 - val_loss: 0.1010 - val_acc: 0.9703\n",
      "Epoch 6/10\n",
      "60000/60000 [==============================] - 5s - loss: 0.0863 - acc: 0.9765 - val_loss: 0.0969 - val_acc: 0.9708\n",
      "Epoch 7/10\n",
      "60000/60000 [==============================] - 6s - loss: 0.0793 - acc: 0.9784 - val_loss: 0.0933 - val_acc: 0.9723\n",
      "Epoch 8/10\n",
      "60000/60000 [==============================] - 6s - loss: 0.0737 - acc: 0.9801 - val_loss: 0.0886 - val_acc: 0.9741\n",
      "Epoch 9/10\n",
      "60000/60000 [==============================] - 6s - loss: 0.0689 - acc: 0.9815 - val_loss: 0.0852 - val_acc: 0.9748\n",
      "Epoch 10/10\n",
      "60000/60000 [==============================] - 6s - loss: 0.0648 - acc: 0.9829 - val_loss: 0.0844 - val_acc: 0.9746\n"
     ]
    },
    {
     "data": {
      "text/plain": [
       "<keras.callbacks.History at 0x126f345f8>"
      ]
     },
     "execution_count": 64,
     "metadata": {},
     "output_type": "execute_result"
    }
   ],
   "source": [
    "model.fit(X_train, Y_train, batch_size=batch_size, epochs=10,\n",
    "          verbose=1, validation_data=(X_test, Y_test))"
   ]
  },
  {
   "cell_type": "code",
   "execution_count": 65,
   "metadata": {
    "collapsed": true
   },
   "outputs": [],
   "source": [
    "model = Sequential()\n",
    "model.add(Dense(200, input_shape=(784,)))\n",
    "model.add(Activation('relu'))\n",
    "model.add(Dense(10))\n",
    "model.add(Activation('softmax'))\n",
    "sgd = optimizers.Adadelta()\n",
    "model.compile(loss='categorical_crossentropy',\n",
    "              optimizer=sgd,\n",
    "              metrics=['accuracy'])"
   ]
  },
  {
   "cell_type": "code",
   "execution_count": 66,
   "metadata": {
    "scrolled": false
   },
   "outputs": [
    {
     "name": "stdout",
     "output_type": "stream",
     "text": [
      "Train on 60000 samples, validate on 10000 samples\n",
      "Epoch 1/10\n",
      "60000/60000 [==============================] - 11s - loss: 0.4299 - acc: 0.8870 - val_loss: 0.2425 - val_acc: 0.9310\n",
      "Epoch 2/10\n",
      "60000/60000 [==============================] - 10s - loss: 0.2151 - acc: 0.9403 - val_loss: 0.1811 - val_acc: 0.9482\n",
      "Epoch 3/10\n",
      "60000/60000 [==============================] - 9s - loss: 0.1674 - acc: 0.9535 - val_loss: 0.1461 - val_acc: 0.9571\n",
      "Epoch 4/10\n",
      "60000/60000 [==============================] - 7s - loss: 0.1389 - acc: 0.9610 - val_loss: 0.1268 - val_acc: 0.9636\n",
      "Epoch 5/10\n",
      "60000/60000 [==============================] - 7s - loss: 0.1195 - acc: 0.9665 - val_loss: 0.1127 - val_acc: 0.9682\n",
      "Epoch 6/10\n",
      "60000/60000 [==============================] - 7s - loss: 0.1051 - acc: 0.9710 - val_loss: 0.1063 - val_acc: 0.9701\n",
      "Epoch 7/10\n",
      "60000/60000 [==============================] - 6s - loss: 0.0936 - acc: 0.9739 - val_loss: 0.0988 - val_acc: 0.9699\n",
      "Epoch 8/10\n",
      "60000/60000 [==============================] - 7s - loss: 0.0840 - acc: 0.9769 - val_loss: 0.0921 - val_acc: 0.9733\n",
      "Epoch 9/10\n",
      "60000/60000 [==============================] - 7s - loss: 0.0768 - acc: 0.9788 - val_loss: 0.0864 - val_acc: 0.9742\n",
      "Epoch 10/10\n",
      "60000/60000 [==============================] - 7s - loss: 0.0700 - acc: 0.9808 - val_loss: 0.0836 - val_acc: 0.9742\n"
     ]
    },
    {
     "data": {
      "text/plain": [
       "<keras.callbacks.History at 0x12790dd30>"
      ]
     },
     "execution_count": 66,
     "metadata": {},
     "output_type": "execute_result"
    }
   ],
   "source": [
    "model.fit(X_train, Y_train, batch_size=batch_size, epochs=10,\n",
    "          verbose=1, validation_data=(X_test, Y_test))"
   ]
  },
  {
   "cell_type": "code",
   "execution_count": 67,
   "metadata": {
    "collapsed": true
   },
   "outputs": [],
   "source": [
    "model = Sequential()\n",
    "model.add(Dense(200, input_shape=(784,)))\n",
    "model.add(Activation('relu'))\n",
    "model.add(Dense(10))\n",
    "model.add(Activation('softmax'))\n",
    "sgd = optimizers.Adam()\n",
    "model.compile(loss='categorical_crossentropy',\n",
    "              optimizer=sgd,\n",
    "              metrics=['accuracy'])"
   ]
  },
  {
   "cell_type": "code",
   "execution_count": 68,
   "metadata": {
    "scrolled": false
   },
   "outputs": [
    {
     "name": "stderr",
     "output_type": "stream",
     "text": [
      "/Users/u.nikulin/anaconda3/lib/python3.6/site-packages/keras/models.py:837: UserWarning: The `nb_epoch` argument in `fit` has been renamed `epochs`.\n",
      "  warnings.warn('The `nb_epoch` argument in `fit` '\n"
     ]
    },
    {
     "name": "stdout",
     "output_type": "stream",
     "text": [
      "Train on 60000 samples, validate on 10000 samples\n",
      "Epoch 1/10\n",
      "60000/60000 [==============================] - 7s - loss: 0.2980 - acc: 0.9175 - val_loss: 0.1546 - val_acc: 0.9562\n",
      "Epoch 2/10\n",
      "60000/60000 [==============================] - 6s - loss: 0.1313 - acc: 0.9628 - val_loss: 0.1108 - val_acc: 0.9677\n",
      "Epoch 3/10\n",
      "60000/60000 [==============================] - 6s - loss: 0.0906 - acc: 0.9733 - val_loss: 0.0905 - val_acc: 0.9717\n",
      "Epoch 4/10\n",
      "60000/60000 [==============================] - 6s - loss: 0.0674 - acc: 0.9802 - val_loss: 0.0770 - val_acc: 0.9758\n",
      "Epoch 5/10\n",
      "60000/60000 [==============================] - 6s - loss: 0.0522 - acc: 0.9848 - val_loss: 0.0733 - val_acc: 0.9772\n",
      "Epoch 6/10\n",
      "60000/60000 [==============================] - 6s - loss: 0.0420 - acc: 0.9877 - val_loss: 0.0713 - val_acc: 0.9789\n",
      "Epoch 7/10\n",
      "60000/60000 [==============================] - 7s - loss: 0.0327 - acc: 0.9905 - val_loss: 0.0649 - val_acc: 0.9797\n",
      "Epoch 8/10\n",
      "60000/60000 [==============================] - 6s - loss: 0.0263 - acc: 0.9930 - val_loss: 0.0688 - val_acc: 0.9786\n",
      "Epoch 9/10\n",
      "60000/60000 [==============================] - 6s - loss: 0.0207 - acc: 0.9947 - val_loss: 0.0663 - val_acc: 0.9800\n",
      "Epoch 10/10\n",
      "60000/60000 [==============================] - 6s - loss: 0.0175 - acc: 0.9954 - val_loss: 0.0663 - val_acc: 0.9798\n"
     ]
    },
    {
     "data": {
      "text/plain": [
       "<keras.callbacks.History at 0x128238fd0>"
      ]
     },
     "execution_count": 68,
     "metadata": {},
     "output_type": "execute_result"
    }
   ],
   "source": [
    "model.fit(X_train, Y_train, batch_size=batch_size, epochs=10,\n",
    "          verbose=1, validation_data=(X_test, Y_test))"
   ]
  },
  {
   "cell_type": "markdown",
   "metadata": {},
   "source": [
    "# Соберём всё вместе"
   ]
  },
  {
   "cell_type": "code",
   "execution_count": 71,
   "metadata": {},
   "outputs": [],
   "source": [
    "model = Sequential()\n",
    "model.add(Dense(200, kernel_initializer='he_uniform', input_shape=(784,)))\n",
    "model.add(Activation('relu'))\n",
    "model.add(BatchNormalization())\n",
    "model.add(Dense(10))\n",
    "model.add(Activation('softmax'))\n",
    "sgd = optimizers.Adam()\n",
    "model.compile(loss='categorical_crossentropy',\n",
    "              optimizer=sgd,\n",
    "              metrics=['accuracy'])"
   ]
  },
  {
   "cell_type": "code",
   "execution_count": null,
   "metadata": {
    "scrolled": false
   },
   "outputs": [
    {
     "name": "stdout",
     "output_type": "stream",
     "text": [
      "Train on 60000 samples, validate on 10000 samples\n",
      "Epoch 1/20\n",
      "60000/60000 [==============================] - 10s - loss: 0.2325 - acc: 0.9317 - val_loss: 0.1179 - val_acc: 0.9636\n",
      "Epoch 2/20\n",
      "60000/60000 [==============================] - 8s - loss: 0.0952 - acc: 0.9726 - val_loss: 0.0937 - val_acc: 0.9703\n",
      "Epoch 3/20\n",
      "60000/60000 [==============================] - 8s - loss: 0.0623 - acc: 0.9820 - val_loss: 0.0854 - val_acc: 0.9730\n",
      "Epoch 4/20\n",
      "60000/60000 [==============================] - 8s - loss: 0.0468 - acc: 0.9862 - val_loss: 0.0752 - val_acc: 0.9759\n",
      "Epoch 5/20\n",
      "60000/60000 [==============================] - 8s - loss: 0.0352 - acc: 0.9894 - val_loss: 0.0738 - val_acc: 0.9780\n",
      "Epoch 6/20\n",
      "60000/60000 [==============================] - 8s - loss: 0.0283 - acc: 0.9916 - val_loss: 0.0719 - val_acc: 0.9785\n",
      "Epoch 7/20\n",
      "60000/60000 [==============================] - 7s - loss: 0.0233 - acc: 0.9928 - val_loss: 0.0824 - val_acc: 0.9750\n",
      "Epoch 8/20\n",
      "60000/60000 [==============================] - 7s - loss: 0.0193 - acc: 0.9944 - val_loss: 0.0817 - val_acc: 0.9766\n",
      "Epoch 9/20\n",
      "60000/60000 [==============================] - 7s - loss: 0.0180 - acc: 0.9945 - val_loss: 0.0702 - val_acc: 0.9807\n",
      "Epoch 10/20\n",
      "60000/60000 [==============================] - 7s - loss: 0.0144 - acc: 0.9958 - val_loss: 0.0811 - val_acc: 0.9768\n",
      "Epoch 11/20\n",
      "60000/60000 [==============================] - 7s - loss: 0.0127 - acc: 0.9961 - val_loss: 0.0820 - val_acc: 0.9780\n",
      "Epoch 12/20\n",
      "60000/60000 [==============================] - 9s - loss: 0.0134 - acc: 0.9958 - val_loss: 0.0828 - val_acc: 0.9787\n",
      "Epoch 13/20\n",
      "52100/60000 [=========================>....] - ETA: 1s - loss: 0.0118 - acc: 0.9963"
     ]
    }
   ],
   "source": [
    "model.fit(X_train, Y_train, batch_size=batch_size, epochs=20,\n",
    "          verbose=1, validation_data=(X_test, Y_test),\n",
    "         callbacks=[callbacks.EarlyStopping(monitor='val_acc', patience=3, verbose=1)])"
   ]
  },
  {
   "cell_type": "code",
   "execution_count": null,
   "metadata": {
    "collapsed": true
   },
   "outputs": [],
   "source": []
  }
 ],
 "metadata": {
  "kernelspec": {
   "display_name": "Python 3",
   "language": "python",
   "name": "python3"
  },
  "language_info": {
   "codemirror_mode": {
    "name": "ipython",
    "version": 3
   },
   "file_extension": ".py",
   "mimetype": "text/x-python",
   "name": "python",
   "nbconvert_exporter": "python",
   "pygments_lexer": "ipython3",
   "version": "3.6.1"
  }
 },
 "nbformat": 4,
 "nbformat_minor": 1
}
